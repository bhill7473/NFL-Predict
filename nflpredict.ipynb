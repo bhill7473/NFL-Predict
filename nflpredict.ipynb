{
 "cells": [
  {
   "cell_type": "code",
   "execution_count": 21,
   "metadata": {},
   "outputs": [],
   "source": [
    "\n",
    "%matplotlib inline\n",
    "import matplotlib.pyplot as plt\n",
    "import numpy as np\n",
    "import pandas as pd"
   ]
  },
  {
   "cell_type": "code",
   "execution_count": 22,
   "metadata": {},
   "outputs": [
    {
     "data": {
      "text/html": [
       "<div>\n",
       "<style scoped>\n",
       "    .dataframe tbody tr th:only-of-type {\n",
       "        vertical-align: middle;\n",
       "    }\n",
       "\n",
       "    .dataframe tbody tr th {\n",
       "        vertical-align: top;\n",
       "    }\n",
       "\n",
       "    .dataframe thead th {\n",
       "        text-align: right;\n",
       "    }\n",
       "</style>\n",
       "<table border=\"1\" class=\"dataframe\">\n",
       "  <thead>\n",
       "    <tr style=\"text-align: right;\">\n",
       "      <th></th>\n",
       "      <th>Tm</th>\n",
       "      <th>W</th>\n",
       "      <th>L</th>\n",
       "      <th>T</th>\n",
       "      <th>WPL</th>\n",
       "      <th>PF</th>\n",
       "      <th>PA</th>\n",
       "      <th>PD</th>\n",
       "      <th>MoV</th>\n",
       "      <th>SoS</th>\n",
       "      <th>SRS</th>\n",
       "      <th>OSRS</th>\n",
       "      <th>DSRS</th>\n",
       "      <th>TG</th>\n",
       "    </tr>\n",
       "  </thead>\n",
       "  <tbody>\n",
       "    <tr>\n",
       "      <th>0</th>\n",
       "      <td>New England Patriots</td>\n",
       "      <td>8</td>\n",
       "      <td>3</td>\n",
       "      <td>0</td>\n",
       "      <td>0.727</td>\n",
       "      <td>307</td>\n",
       "      <td>249</td>\n",
       "      <td>58</td>\n",
       "      <td>5.3</td>\n",
       "      <td>-0.9</td>\n",
       "      <td>4.4</td>\n",
       "      <td>3.3</td>\n",
       "      <td>1.0</td>\n",
       "      <td>11</td>\n",
       "    </tr>\n",
       "    <tr>\n",
       "      <th>1</th>\n",
       "      <td>Miami Dolphins</td>\n",
       "      <td>5</td>\n",
       "      <td>6</td>\n",
       "      <td>0</td>\n",
       "      <td>0.455</td>\n",
       "      <td>223</td>\n",
       "      <td>283</td>\n",
       "      <td>-60</td>\n",
       "      <td>-5.5</td>\n",
       "      <td>-1.7</td>\n",
       "      <td>-7.2</td>\n",
       "      <td>-5.1</td>\n",
       "      <td>-2.1</td>\n",
       "      <td>11</td>\n",
       "    </tr>\n",
       "    <tr>\n",
       "      <th>2</th>\n",
       "      <td>Buffalo Bills</td>\n",
       "      <td>4</td>\n",
       "      <td>7</td>\n",
       "      <td>0</td>\n",
       "      <td>0.364</td>\n",
       "      <td>161</td>\n",
       "      <td>272</td>\n",
       "      <td>-111</td>\n",
       "      <td>-10.1</td>\n",
       "      <td>1.5</td>\n",
       "      <td>-8.6</td>\n",
       "      <td>-8.3</td>\n",
       "      <td>-0.3</td>\n",
       "      <td>11</td>\n",
       "    </tr>\n",
       "    <tr>\n",
       "      <th>3</th>\n",
       "      <td>New York Jets</td>\n",
       "      <td>3</td>\n",
       "      <td>8</td>\n",
       "      <td>0</td>\n",
       "      <td>0.273</td>\n",
       "      <td>221</td>\n",
       "      <td>281</td>\n",
       "      <td>-60</td>\n",
       "      <td>-5.5</td>\n",
       "      <td>-1.8</td>\n",
       "      <td>-7.3</td>\n",
       "      <td>-4.0</td>\n",
       "      <td>-3.3</td>\n",
       "      <td>11</td>\n",
       "    </tr>\n",
       "    <tr>\n",
       "      <th>4</th>\n",
       "      <td>Pittsburgh Steelers</td>\n",
       "      <td>7</td>\n",
       "      <td>3</td>\n",
       "      <td>1</td>\n",
       "      <td>0.682</td>\n",
       "      <td>316</td>\n",
       "      <td>249</td>\n",
       "      <td>67</td>\n",
       "      <td>6.1</td>\n",
       "      <td>1.5</td>\n",
       "      <td>7.6</td>\n",
       "      <td>5.2</td>\n",
       "      <td>2.5</td>\n",
       "      <td>11</td>\n",
       "    </tr>\n",
       "  </tbody>\n",
       "</table>\n",
       "</div>"
      ],
      "text/plain": [
       "                     Tm  W  L  T    WPL   PF   PA   PD   MoV  SoS  SRS  OSRS  \\\n",
       "0  New England Patriots  8  3  0  0.727  307  249   58   5.3 -0.9  4.4   3.3   \n",
       "1        Miami Dolphins  5  6  0  0.455  223  283  -60  -5.5 -1.7 -7.2  -5.1   \n",
       "2         Buffalo Bills  4  7  0  0.364  161  272 -111 -10.1  1.5 -8.6  -8.3   \n",
       "3         New York Jets  3  8  0  0.273  221  281  -60  -5.5 -1.8 -7.3  -4.0   \n",
       "4   Pittsburgh Steelers  7  3  1  0.682  316  249   67   6.1  1.5  7.6   5.2   \n",
       "\n",
       "   DSRS  TG  \n",
       "0   1.0  11  \n",
       "1  -2.1  11  \n",
       "2  -0.3  11  \n",
       "3  -3.3  11  \n",
       "4   2.5  11  "
      ]
     },
     "execution_count": 22,
     "metadata": {},
     "output_type": "execute_result"
    }
   ],
   "source": [
    "afc = pd.read_csv('afl.csv')\n",
    "afc.rename(columns={'W-L%':'WPL'}, inplace=True)\n",
    "afc.head()\n"
   ]
  },
  {
   "cell_type": "code",
   "execution_count": 40,
   "metadata": {},
   "outputs": [
    {
     "data": {
      "text/html": [
       "<div>\n",
       "<style scoped>\n",
       "    .dataframe tbody tr th:only-of-type {\n",
       "        vertical-align: middle;\n",
       "    }\n",
       "\n",
       "    .dataframe tbody tr th {\n",
       "        vertical-align: top;\n",
       "    }\n",
       "\n",
       "    .dataframe thead th {\n",
       "        text-align: right;\n",
       "    }\n",
       "</style>\n",
       "<table border=\"1\" class=\"dataframe\">\n",
       "  <thead>\n",
       "    <tr style=\"text-align: right;\">\n",
       "      <th></th>\n",
       "      <th>Tm</th>\n",
       "      <th>W</th>\n",
       "      <th>L</th>\n",
       "      <th>T</th>\n",
       "      <th>WPL</th>\n",
       "      <th>PF</th>\n",
       "      <th>PA</th>\n",
       "      <th>PD</th>\n",
       "      <th>MoV</th>\n",
       "      <th>SoS</th>\n",
       "      <th>SRS</th>\n",
       "      <th>OSRS</th>\n",
       "      <th>DSRS</th>\n",
       "      <th>TG</th>\n",
       "    </tr>\n",
       "  </thead>\n",
       "  <tbody>\n",
       "    <tr>\n",
       "      <th>0</th>\n",
       "      <td>Washington Redskins</td>\n",
       "      <td>6</td>\n",
       "      <td>5</td>\n",
       "      <td>0</td>\n",
       "      <td>0.545</td>\n",
       "      <td>220</td>\n",
       "      <td>229</td>\n",
       "      <td>-9</td>\n",
       "      <td>-0.8</td>\n",
       "      <td>-0.2</td>\n",
       "      <td>-1.0</td>\n",
       "      <td>-5.3</td>\n",
       "      <td>4.2</td>\n",
       "      <td>11</td>\n",
       "    </tr>\n",
       "    <tr>\n",
       "      <th>1</th>\n",
       "      <td>Dallas Cowboys</td>\n",
       "      <td>6</td>\n",
       "      <td>5</td>\n",
       "      <td>0</td>\n",
       "      <td>0.545</td>\n",
       "      <td>234</td>\n",
       "      <td>213</td>\n",
       "      <td>21</td>\n",
       "      <td>1.9</td>\n",
       "      <td>-0.9</td>\n",
       "      <td>1.0</td>\n",
       "      <td>-1.7</td>\n",
       "      <td>2.7</td>\n",
       "      <td>11</td>\n",
       "    </tr>\n",
       "    <tr>\n",
       "      <th>2</th>\n",
       "      <td>Philadelphia Eagles</td>\n",
       "      <td>5</td>\n",
       "      <td>6</td>\n",
       "      <td>0</td>\n",
       "      <td>0.455</td>\n",
       "      <td>230</td>\n",
       "      <td>253</td>\n",
       "      <td>-23</td>\n",
       "      <td>-2.1</td>\n",
       "      <td>-0.4</td>\n",
       "      <td>-2.5</td>\n",
       "      <td>-4.1</td>\n",
       "      <td>1.6</td>\n",
       "      <td>11</td>\n",
       "    </tr>\n",
       "    <tr>\n",
       "      <th>3</th>\n",
       "      <td>New York Giants</td>\n",
       "      <td>3</td>\n",
       "      <td>8</td>\n",
       "      <td>0</td>\n",
       "      <td>0.273</td>\n",
       "      <td>237</td>\n",
       "      <td>288</td>\n",
       "      <td>-51</td>\n",
       "      <td>-4.6</td>\n",
       "      <td>0.0</td>\n",
       "      <td>-4.6</td>\n",
       "      <td>-2.3</td>\n",
       "      <td>-2.4</td>\n",
       "      <td>11</td>\n",
       "    </tr>\n",
       "    <tr>\n",
       "      <th>4</th>\n",
       "      <td>Chicago Bears</td>\n",
       "      <td>8</td>\n",
       "      <td>3</td>\n",
       "      <td>0</td>\n",
       "      <td>0.727</td>\n",
       "      <td>317</td>\n",
       "      <td>211</td>\n",
       "      <td>106</td>\n",
       "      <td>9.6</td>\n",
       "      <td>-3.6</td>\n",
       "      <td>6.1</td>\n",
       "      <td>3.5</td>\n",
       "      <td>2.6</td>\n",
       "      <td>11</td>\n",
       "    </tr>\n",
       "  </tbody>\n",
       "</table>\n",
       "</div>"
      ],
      "text/plain": [
       "                    Tm  W  L  T    WPL   PF   PA   PD  MoV  SoS  SRS  OSRS  \\\n",
       "0  Washington Redskins  6  5  0  0.545  220  229   -9 -0.8 -0.2 -1.0  -5.3   \n",
       "1       Dallas Cowboys  6  5  0  0.545  234  213   21  1.9 -0.9  1.0  -1.7   \n",
       "2  Philadelphia Eagles  5  6  0  0.455  230  253  -23 -2.1 -0.4 -2.5  -4.1   \n",
       "3      New York Giants  3  8  0  0.273  237  288  -51 -4.6  0.0 -4.6  -2.3   \n",
       "4        Chicago Bears  8  3  0  0.727  317  211  106  9.6 -3.6  6.1   3.5   \n",
       "\n",
       "   DSRS  TG  \n",
       "0   4.2  11  \n",
       "1   2.7  11  \n",
       "2   1.6  11  \n",
       "3  -2.4  11  \n",
       "4   2.6  11  "
      ]
     },
     "execution_count": 40,
     "metadata": {},
     "output_type": "execute_result"
    }
   ],
   "source": [
    "nfc = pd.read_csv('nfc.csv')\n",
    "nfc.rename(columns={'W-L%':'WPL'}, inplace=True)\n",
    "nfc.head()"
   ]
  },
  {
   "cell_type": "code",
   "execution_count": 31,
   "metadata": {},
   "outputs": [
    {
     "name": "stdout",
     "output_type": "stream",
     "text": [
      "Shape:  (16, 1) (16, 1)\n"
     ]
    },
    {
     "data": {
      "text/plain": [
       "array([[8],\n",
       "       [5],\n",
       "       [4],\n",
       "       [3],\n",
       "       [7],\n",
       "       [6],\n",
       "       [5],\n",
       "       [4],\n",
       "       [8],\n",
       "       [6],\n",
       "       [5],\n",
       "       [3],\n",
       "       [9],\n",
       "       [8],\n",
       "       [5],\n",
       "       [2]], dtype=int64)"
      ]
     },
     "execution_count": 31,
     "metadata": {},
     "output_type": "execute_result"
    }
   ],
   "source": [
    "#AFC\n",
    "X = afc.W.values.reshape(-1, 1)\n",
    "y = afc.PF.values.reshape(-1, 1)\n",
    "\n",
    "print(\"Shape: \", X.shape, y.shape)\n",
    "X"
   ]
  },
  {
   "cell_type": "code",
   "execution_count": 41,
   "metadata": {},
   "outputs": [
    {
     "name": "stdout",
     "output_type": "stream",
     "text": [
      "Shape:  (16, 1) (16, 1)\n"
     ]
    },
    {
     "data": {
      "text/plain": [
       "array([[ 6],\n",
       "       [ 6],\n",
       "       [ 5],\n",
       "       [ 3],\n",
       "       [ 8],\n",
       "       [ 6],\n",
       "       [ 4],\n",
       "       [ 4],\n",
       "       [10],\n",
       "       [ 6],\n",
       "       [ 4],\n",
       "       [ 4],\n",
       "       [10],\n",
       "       [ 6],\n",
       "       [ 2],\n",
       "       [ 2]], dtype=int64)"
      ]
     },
     "execution_count": 41,
     "metadata": {},
     "output_type": "execute_result"
    }
   ],
   "source": [
    "#NFC\n",
    "Xtwo = nfc.W.values.reshape(-1, 1)\n",
    "ytwo = nfc.PF.values.reshape(-1, 1)\n",
    "\n",
    "print(\"Shape: \", Xtwo.shape, ytwo.shape)\n",
    "Xtwo"
   ]
  },
  {
   "cell_type": "code",
   "execution_count": 32,
   "metadata": {},
   "outputs": [
    {
     "data": {
      "text/plain": [
       "<matplotlib.collections.PathCollection at 0x275027222e8>"
      ]
     },
     "execution_count": 32,
     "metadata": {},
     "output_type": "execute_result"
    },
    {
     "data": {
      "image/png": "[encoded data removed]",
      "text/plain": [
       "<Figure size 432x288 with 1 Axes>"
      ]
     },
     "metadata": {
      "needs_background": "light"
     },
     "output_type": "display_data"
    }
   ],
   "source": [
    "#AFC\n",
    "plt.scatter(X, y)"
   ]
  },
  {
   "cell_type": "code",
   "execution_count": 44,
   "metadata": {},
   "outputs": [
    {
     "data": {
      "text/plain": [
       "<matplotlib.collections.PathCollection at 0x27502999518>"
      ]
     },
     "execution_count": 44,
     "metadata": {},
     "output_type": "execute_result"
    },
    {
     "data": {
      "image/png": "[encoded data removed]",
      "text/plain": [
       "<Figure size 432x288 with 1 Axes>"
      ]
     },
     "metadata": {
      "needs_background": "light"
     },
     "output_type": "display_data"
    }
   ],
   "source": [
    "#NFC\n",
    "plt.scatter(Xtwo,ytwo)"
   ]
  },
  {
   "cell_type": "code",
   "execution_count": 77,
   "metadata": {},
   "outputs": [
    {
     "name": "stdout",
     "output_type": "stream",
     "text": [
      "Mean Squared Error (MSE): 1180.15234375\n",
      "R-squared (R2 ): 0.6820281978310656\n",
      "AFC Weight coefficients:  [[25.15625]]\n",
      "AFC y-axis intercept:  [122.140625]\n"
     ]
    }
   ],
   "source": [
    "from sklearn.linear_model import LinearRegression\n",
    "from sklearn.metrics import mean_squared_error, r2_score\n",
    "\n",
    "model = LinearRegression()\n",
    "\n",
    "model.fit(X, y)\n",
    "\n",
    "predicted = model.predict(X)\n",
    "\n",
    "mse = mean_squared_error(y, predicted)\n",
    "r2 = r2_score(y, predicted)\n",
    "\n",
    "print(f\"Mean Squared Error (MSE): {mse}\")\n",
    "print(f\"R-squared (R2 ): {r2}\")\n",
    "\n",
    "\n",
    "print('AFC Weight coefficients: ', model.coef_)\n",
    "print('AFC y-axis intercept: ', model.intercept_)"
   ]
  },
  {
   "cell_type": "code",
   "execution_count": 78,
   "metadata": {},
   "outputs": [
    {
     "name": "stdout",
     "output_type": "stream",
     "text": [
      "Mean Squared Error (MSE): 1172.8732193732192\n",
      "R-squared (R2 ): 0.6788614587821409\n",
      "NFC Weight coefficients:  [[21.26210826]]\n",
      "NFC y-axis intercept:  [156.59116809]\n"
     ]
    }
   ],
   "source": [
    "modeltwo = LinearRegression()\n",
    "\n",
    "modeltwo.fit(Xtwo, ytwo)\n",
    "\n",
    "predicted = modeltwo.predict(Xtwo)\n",
    "\n",
    "mse = mean_squared_error(ytwo, predicted)\n",
    "r2 = r2_score(ytwo, predicted)\n",
    "\n",
    "print(f\"Mean Squared Error (MSE): {mse}\")\n",
    "print(f\"R-squared (R2 ): {r2}\")\n",
    "\n",
    "print('NFC Weight coefficients: ', modeltwo.coef_)\n",
    "print('NFC y-axis intercept: ', modeltwo.intercept_)\n"
   ]
  },
  {
   "cell_type": "code",
   "execution_count": 79,
   "metadata": {},
   "outputs": [
    {
     "name": "stdout",
     "output_type": "stream",
     "text": [
      "AFC score:0.6820281978310656\n",
      "NFC score:0.6788614587821409\n"
     ]
    }
   ],
   "source": [
    "afcsc=model.score(X,y)\n",
    "nfcsc=modeltwo.score(Xtwo,ytwo)\n",
    "\n",
    "print(f\"AFC score:{afcsc}\")\n",
    "print(f\"NFC score:{nfcsc}\")"
   ]
  },
  {
   "cell_type": "code",
   "execution_count": 80,
   "metadata": {},
   "outputs": [
    {
     "name": "stdout",
     "output_type": "stream",
     "text": [
      "AFC Min X Value: [[2]]\n",
      "AFC Max X Value: [[9]]\n"
     ]
    }
   ],
   "source": [
    "x_min = np.array([[X.min()]])\n",
    "x_max = np.array([[X.max()]])\n",
    "print(f\"AFC Min X Value: {x_min}\")\n",
    "print(f\"AFC Max X Value: {x_max}\")"
   ]
  },
  {
   "cell_type": "code",
   "execution_count": 81,
   "metadata": {},
   "outputs": [
    {
     "name": "stdout",
     "output_type": "stream",
     "text": [
      "NFC Min X Value: [[2]]\n",
      "NFC Max X Value: [[10]]\n"
     ]
    }
   ],
   "source": [
    "x_mintwo = np.array([[Xtwo.min()]])\n",
    "x_maxtwo = np.array([[Xtwo.max()]])\n",
    "print(f\"NFC Min X Value: {x_mintwo}\")\n",
    "print(f\"NFC Max X Value: {x_maxtwo}\")"
   ]
  },
  {
   "cell_type": "code",
   "execution_count": 106,
   "metadata": {},
   "outputs": [
    {
     "data": {
      "text/plain": [
       "[<matplotlib.lines.Line2D at 0x275040d14a8>]"
      ]
     },
     "execution_count": 106,
     "metadata": {},
     "output_type": "execute_result"
    },
    {
     "data": {
      "image/png": "[encoded data removed]",
      "text/plain": [
       "<Figure size 432x288 with 1 Axes>"
      ]
     },
     "metadata": {
      "needs_background": "light"
     },
     "output_type": "display_data"
    }
   ],
   "source": [
    "#AFC LR\n",
    "\n",
    "y_min = model.predict(x_min)\n",
    "y_max = model.predict(x_max)\n",
    "\n",
    "plt.scatter(X, y, c='blue')\n",
    "plt.xlabel(\"WINS\")\n",
    "plt.ylabel(\"Points Scored\")\n",
    "plt.title(\"AFC\")\n",
    "#plt.xticks(afl.Tm)\n",
    "plt.plot([x_min[0], x_max[0]], [y_min[0], y_max[0]], c='red')"
   ]
  },
  {
   "cell_type": "code",
   "execution_count": 107,
   "metadata": {},
   "outputs": [
    {
     "data": {
      "text/plain": [
       "[<matplotlib.lines.Line2D at 0x2750414da90>]"
      ]
     },
     "execution_count": 107,
     "metadata": {},
     "output_type": "execute_result"
    },
    {
     "data": {
      "image/png": "[encoded data removed]",
      "text/plain": [
       "<Figure size 432x288 with 1 Axes>"
      ]
     },
     "metadata": {
      "needs_background": "light"
     },
     "output_type": "display_data"
    }
   ],
   "source": [
    "#NFC LR\n",
    "\n",
    "y_mintwo = model.predict(x_mintwo)\n",
    "y_maxtwo = model.predict(x_maxtwo)\n",
    "plt.xlabel(\"WINS\")\n",
    "plt.ylabel(\"Points Scored\")\n",
    "plt.title(\"NFC\")\n",
    "plt.scatter(Xtwo, ytwo, c='darkblue')\n",
    "#plt.xticks(afl.Tm)\n",
    "plt.plot([x_mintwo[0], x_maxtwo[0]], [y_mintwo[0], y_maxtwo[0]], c='black')"
   ]
  },
  {
   "cell_type": "code",
   "execution_count": 108,
   "metadata": {},
   "outputs": [
    {
     "data": {
      "text/plain": [
       "[<matplotlib.lines.Line2D at 0x275041b4320>]"
      ]
     },
     "execution_count": 108,
     "metadata": {},
     "output_type": "execute_result"
    },
    {
     "data": {
      "image/png": "[encoded data removed]",
      "text/plain": [
       "<Figure size 432x288 with 1 Axes>"
      ]
     },
     "metadata": {
      "needs_background": "light"
     },
     "output_type": "display_data"
    }
   ],
   "source": [
    "#NFL CHART\n",
    "\n",
    "plt.scatter(X, y, c='blue')\n",
    "plt.scatter(Xtwo, ytwo, c='darkblue')\n",
    "plt.xlabel(\"WINS\")\n",
    "plt.ylabel(\"Points Scored\")\n",
    "plt.title(\"NFL\")\n",
    "\n",
    "\n",
    "plt.plot([x_min[0], x_max[0]], [y_min[0], y_max[0]], c='red')\n",
    "plt.plot([x_mintwo[0], x_maxtwo[0]], [y_mintwo[0], y_maxtwo[0]], c='black')"
   ]
  },
  {
   "cell_type": "code",
   "execution_count": 93,
   "metadata": {},
   "outputs": [
    {
     "data": {
      "text/plain": [
       "0.656560247206178"
      ]
     },
     "execution_count": 93,
     "metadata": {},
     "output_type": "execute_result"
    }
   ],
   "source": [
    "#AFC\n",
    "from sklearn.model_selection import train_test_split\n",
    "\n",
    "X_train, X_test, y_train, y_test = train_test_split(X, y, random_state=42)\n",
    "\n",
    "model.fit(X_train, y_train)\n",
    "\n",
    "model.score(X_test, y_test)"
   ]
  },
  {
   "cell_type": "code",
   "execution_count": 94,
   "metadata": {},
   "outputs": [
    {
     "data": {
      "text/plain": [
       "-9.78524880092155"
      ]
     },
     "execution_count": 94,
     "metadata": {},
     "output_type": "execute_result"
    }
   ],
   "source": [
    "#NFC\n",
    "X_traintwo, X_testtwo, y_traintwo, y_testtwo = train_test_split(Xtwo, ytwo, random_state=42)\n",
    "\n",
    "modeltwo.fit(X_traintwo, y_traintwo)\n",
    "\n",
    "modeltwo.score(X_testtwo, y_testtwo)"
   ]
  },
  {
   "cell_type": "code",
   "execution_count": null,
   "metadata": {},
   "outputs": [],
   "source": []
  }
 ],
 "metadata": {
  "kernelspec": {
   "display_name": "Python 3",
   "language": "python",
   "name": "python3"
  },
  "language_info": {
   "codemirror_mode": {
    "name": "ipython",
    "version": 3
   },
   "file_extension": ".py",
   "mimetype": "text/x-python",
   "name": "python",
   "nbconvert_exporter": "python",
   "pygments_lexer": "ipython3",
   "version": "3.6.6"
  }
 },
 "nbformat": 4,
 "nbformat_minor": 2
}
